{
  "nbformat": 4,
  "nbformat_minor": 0,
  "metadata": {
    "colab": {
      "provenance": []
    },
    "kernelspec": {
      "name": "python3",
      "display_name": "Python 3"
    },
    "language_info": {
      "name": "python"
    }
  },
  "cells": [
    {
      "cell_type": "code",
      "execution_count": 48,
      "metadata": {
        "cellView": "form",
        "id": "DRRJ4E_Vr0jk"
      },
      "outputs": [],
      "source": [
        "#@title Titration\n",
        "#@markdown **Benutzung**\n",
        "#@markdown 1. Eingabe der Messwerte \n",
        "#@markdown 2. Ausführen mit Strg+F9 \n",
        "\n",
        "\n",
        "#@markdown **Messwerte [HCl]**<br>\n",
        "#@markdown Eingabe der Zahl mit Punkt als Dezimaltrennung (bspw. 1.2)\n",
        "messwert_1 = None #@param {type:\"number\"}\n",
        "messwert_2 = None #@param {type:\"number\"}\n",
        "messwert_3 = None #@param {type:\"number\"}\n",
        "messwert_4 = None #@param {type:\"number\"}\n",
        "messwert_5 = None #@param {type:\"number\"}\n",
        "\n",
        "# Überprüfen, ob die Messwerte korrekt eingetragen wurden.\n",
        "\n",
        "messwerte = [messwert_1, messwert_2, messwert_3, messwert_4, messwert_5]\n",
        "\n",
        "fehler = False\n",
        "for (i, wert) in enumerate(messwerte):\n",
        "  if wert != None:\n",
        "    try:\n",
        "      wert = float(wert)\n",
        "    except ValueError:\n",
        "      print(f\"Eingabe des Messwerts {i + 1} fehlerhaft! Bitte Zahl eingeben!\")\n",
        "      fehler = True\n",
        "\n",
        "messwerte = [wert for wert in messwerte if wert != None]\n",
        "anzahl_messungen = len(messwerte)\n",
        "if anzahl_messungen == 0:\n",
        "  fehler = True\n",
        "  print(\"Keine Messwerte eingegeben!\")\n",
        "elif anzahl_messungen == 1:\n",
        "  fehler = True\n",
        "  print(\"Mehr als einen Messwert eingegeben!\")\n",
        "\n",
        "# TODO: Stoppen der Ausführung weiterer Zellen, wenn Eingabe fehlerhaft\n",
        "\n",
        "\n",
        "\n",
        "\n"
      ]
    },
    {
      "cell_type": "code",
      "source": [
        "from IPython.display import Markdown\n",
        "from math import sqrt\n",
        "#@markdown Mittelwert bei $n$ Messungen des Parameters $x$ <br>\n",
        "#@markdown $\\bar{x} = \\frac{1}{n}\\sum_{i=1}^n x_i $ <br>\n",
        "#@markdown Standardabweichung <br>\n",
        "#@markdown $s = \\sqrt{\\frac{1}{n-1}\\sum_{i=1}^{n}(x_i-\\bar{x})^2}$\n",
        "\n",
        "#@markdown Statistischer Fehler des Mittelwerts <br>\n",
        "#@markdown $\\Delta x = \\frac{s}{\\sqrt{n}} = \\sqrt{\\frac{1}{n(n-1)}\\sum_{i=1}^{n}(x_i-\\bar{x})^2} $\n",
        "\n",
        "\n",
        "summe = sum(messwerte)\n",
        "mittelwert = (1.0 / float(anzahl_messungen)) * float(summe)\n",
        "standardabweichung = sqrt((1.0 / float(anzahl_messungen-1)) * sum([(wert - mittelwert)**2 for wert in messwerte]))\n",
        "stat_fehler_des_mittelwerts = standardabweichung / sqrt(anzahl_messungen)\n",
        "\n",
        "\n",
        "display(Markdown(f'Anzahl der Messungen $n = {anzahl_messungen}$'))\n",
        "\n",
        "ausgabe_tabelle_a = lambda n, x, d: '<tr>' \\\n",
        "                            f'<td>{n}</td>' \\\n",
        "                            f'<td>{x:0.3f}</td>' \\\n",
        "                            f'<td>{d:0.3f}</td>' \\\n",
        "                            '</tr>'\n",
        "ausgabe_tabelle_b = lambda n, x: '<tr>' \\\n",
        "                            f'<td>{n}</td>' \\\n",
        "                            f'<td>{x:0.3f}</td>' \\\n",
        "                            '<td></td>' \\\n",
        "                            '</tr>'\n",
        "\n",
        "werte_tabelle = ''.join([ausgabe_tabelle_a(i + 1, wert, (wert - mittelwert)**2) for (i, wert) in enumerate(messwerte)])\n",
        "\n",
        "\n",
        "display(Markdown('<table>'\n",
        "                 '<tr>'\n",
        "                 '<th>Messung</th>'\n",
        "                 '<th>Messwert [HCL]</th>'\n",
        "                 '<th>($x_i - \\\\bar{x})$</th>'\n",
        "                 '</tr>'\n",
        "                 f'{werte_tabelle}'\n",
        "                 f'{ausgabe_tabelle_b(\"Summe\", summe)}'\n",
        "                 f'{ausgabe_tabelle_b(\"<b>Mittelwert</b>\", mittelwert)}'\n",
        "                 f'{ausgabe_tabelle_b(\"<b>Standardabweichung</b>\", standardabweichung)}'\n",
        "                 f'{ausgabe_tabelle_b(\"<b>Fehler</b>\", stat_fehler_des_mittelwerts)}'\n",
        "                 '</table>'))\n",
        "\n",
        "\n"
      ],
      "metadata": {
        "cellView": "form",
        "id": "tZ1x7emDwqdJ"
      },
      "execution_count": null,
      "outputs": []
    }
  ]
}
